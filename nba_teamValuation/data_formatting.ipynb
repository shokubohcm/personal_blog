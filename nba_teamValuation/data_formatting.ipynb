{
 "cells": [
  {
   "cell_type": "code",
   "execution_count": 11,
   "metadata": {},
   "outputs": [],
   "source": [
    "import pandas as pd\n",
    "import numpy as np\n",
    "df = pd.read_csv(\"./data/nba_valuation.csv\", index_col=0)"
   ]
  },
  {
   "cell_type": "code",
   "execution_count": 12,
   "metadata": {},
   "outputs": [],
   "source": [
    "# long Format\n",
    "df_reset = df.reset_index() \n",
    "df_reset.rename(columns={\"Team\": \"Year\"}, inplace=True) \n",
    "df_long = df_reset.melt(id_vars=\"Year\", var_name=\"Team\", value_name=\"Valuation\")  \n",
    "df_long.to_csv(\"./data/nba_valuation_long.csv\", index=False)"
   ]
  },
  {
   "cell_type": "code",
   "execution_count": 14,
   "metadata": {},
   "outputs": [],
   "source": [
    "# add league average valuation\n",
    "# リーグ平均をYearごとに計算して追加\n",
    "df_long['Valuation'] = df_long['Valuation'].replace('[\\$,]', '', regex=True).astype(float)\n",
    "df_long['LeagueAverage'] = df_long.groupby('Year')['Valuation'].transform('mean')\n",
    "df_long.to_csv(\"./data/nba_valuation_with_league_average.csv\", index=False)"
   ]
  },
  {
   "cell_type": "code",
   "execution_count": 15,
   "metadata": {},
   "outputs": [],
   "source": [
    "# Inflation Adjustment using CPI\n",
    "cpi_data = {\n",
    "    2011: 224.9, 2012: 229.6, 2013: 233.0, 2014: 236.7, 2015: 237.0,\n",
    "    2016: 240.0, 2017: 245.1, 2018: 251.1, 2019: 255.7, 2020: 258.8,\n",
    "    2021: 271.0, 2022: 292.7, 2023: 304.7, 2024: 313.7, 2025: 322.3\n",
    "}\n",
    "\n",
    "df_long['CPI'] = df_long['Year'].map(cpi_data)\n",
    "cpi_2025 = cpi_data[2025]\n",
    "df_long['RealValuation'] = df_long['Valuation'] * (cpi_2025 / df_long['CPI'])\n",
    "\n",
    "# log\n",
    "df_long['LogValuation'] = df_long['RealValuation'].apply(lambda x: pd.NA if x <= 0 else np.log(x))\n",
    "\n",
    "df_long.to_csv(\"./data/nba_valuation_long_inflated.csv\", index=False)"
   ]
  },
  {
   "cell_type": "code",
   "execution_count": 16,
   "metadata": {},
   "outputs": [],
   "source": [
    "# merge star_transfer data to valuation data\n",
    "\n",
    "# flags\n",
    "df_transfer = pd.read_csv(\"./data/star_transfers.csv\")\n",
    "df_transfer[\"StarArrival\"] = 1\n",
    "df_arrivals = df_transfer[[\"ToTeam\", \"Year\", \"StarArrival\"]].rename(columns={\"ToTeam\": \"Team\"})\n",
    "\n",
    "# merge\n",
    "df_merged = pd.merge(df_long, df_arrivals, how=\"left\", on=[\"Team\", \"Year\"])\n",
    "df_merged[\"StarArrival\"] = df_merged[\"StarArrival\"].fillna(0).astype(int)\n",
    "df_merged.to_csv(\"./data/nba_valuation_with_star_flag.csv\", index=False)"
   ]
  },
  {
   "cell_type": "code",
   "execution_count": 17,
   "metadata": {},
   "outputs": [],
   "source": [
    "# 分析用に、nba_valuation_with_league_average.csvをdataとして保存\n",
    "df_merged.to_csv(\"./data/data.csv\", index=False)"
   ]
  }
 ],
 "metadata": {
  "kernelspec": {
   "display_name": "Python (clean-base)",
   "language": "python",
   "name": "clean-base"
  },
  "language_info": {
   "codemirror_mode": {
    "name": "ipython",
    "version": 3
   },
   "file_extension": ".py",
   "mimetype": "text/x-python",
   "name": "python",
   "nbconvert_exporter": "python",
   "pygments_lexer": "ipython3",
   "version": "3.11.10"
  }
 },
 "nbformat": 4,
 "nbformat_minor": 2
}
