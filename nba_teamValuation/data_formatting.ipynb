{
 "cells": [
  {
   "cell_type": "code",
   "execution_count": 67,
   "metadata": {},
   "outputs": [],
   "source": [
    "import pandas as pd\n",
    "import numpy as np\n",
    "# %pip install ace_tools\n",
    "df = pd.read_csv(\"./data/nba_valuation.csv\", index_col=0)"
   ]
  },
  {
   "cell_type": "code",
   "execution_count": 69,
   "metadata": {},
   "outputs": [],
   "source": [
    "# long Format\n",
    "\n",
    "df_reset.rename(columns={\"Team\": \"Year\"}, inplace=True) \n",
    "df_long = df_reset.melt(id_vars=\"Year\", var_name=\"Team\", value_name=\"Valuation\")  \n",
    "df_long.head()\n",
    "df_long.to_csv(\"./data/nba_valuation_long.csv\", index=False)"
   ]
  }
 ],
 "metadata": {
  "kernelspec": {
   "display_name": "Python (clean-base)",
   "language": "python",
   "name": "clean-base"
  },
  "language_info": {
   "codemirror_mode": {
    "name": "ipython",
    "version": 3
   },
   "file_extension": ".py",
   "mimetype": "text/x-python",
   "name": "python",
   "nbconvert_exporter": "python",
   "pygments_lexer": "ipython3",
   "version": "3.11.10"
  }
 },
 "nbformat": 4,
 "nbformat_minor": 2
}
