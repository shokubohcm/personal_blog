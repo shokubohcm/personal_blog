{
 "cells": [
  {
   "cell_type": "code",
   "execution_count": 8,
   "id": "e48b3afb",
   "metadata": {},
   "outputs": [],
   "source": [
    "import pandas as pd\n",
    "import numpy as np\n",
    "import matplotlib.pyplot as plt\n",
    "import seaborn as sns\n",
    "\n",
    "df = pd.read_csv('../data/data.csv')\n",
    "StarPlayer = pd.read_csv('../data/StarPlayer.csv')\n",
    "StarPres = pd.read_csv('../data/StarPresence.csv')"
   ]
  },
  {
   "cell_type": "code",
   "execution_count": null,
   "id": "5656855c",
   "metadata": {},
   "outputs": [
    {
     "data": {
      "text/html": [
       "<div>\n",
       "<style scoped>\n",
       "    .dataframe tbody tr th:only-of-type {\n",
       "        vertical-align: middle;\n",
       "    }\n",
       "\n",
       "    .dataframe tbody tr th {\n",
       "        vertical-align: top;\n",
       "    }\n",
       "\n",
       "    .dataframe thead th {\n",
       "        text-align: right;\n",
       "    }\n",
       "</style>\n",
       "<table border=\"1\" class=\"dataframe\">\n",
       "  <thead>\n",
       "    <tr style=\"text-align: right;\">\n",
       "      <th></th>\n",
       "      <th>Year</th>\n",
       "      <th>Team</th>\n",
       "      <th>StarPresence</th>\n",
       "      <th>NumStars</th>\n",
       "    </tr>\n",
       "  </thead>\n",
       "  <tbody>\n",
       "    <tr>\n",
       "      <th>220</th>\n",
       "      <td>2025</td>\n",
       "      <td>Detroit Pistons</td>\n",
       "      <td>1.0</td>\n",
       "      <td>1</td>\n",
       "    </tr>\n",
       "    <tr>\n",
       "      <th>221</th>\n",
       "      <td>2025</td>\n",
       "      <td>Indiana Pacers</td>\n",
       "      <td>1.0</td>\n",
       "      <td>1</td>\n",
       "    </tr>\n",
       "    <tr>\n",
       "      <th>222</th>\n",
       "      <td>2025</td>\n",
       "      <td>Los Angeles Clippers</td>\n",
       "      <td>1.0</td>\n",
       "      <td>1</td>\n",
       "    </tr>\n",
       "    <tr>\n",
       "      <th>223</th>\n",
       "      <td>2025</td>\n",
       "      <td>New York Knicks</td>\n",
       "      <td>1.0</td>\n",
       "      <td>2</td>\n",
       "    </tr>\n",
       "    <tr>\n",
       "      <th>224</th>\n",
       "      <td>2025</td>\n",
       "      <td>Oklahoma City Thunder</td>\n",
       "      <td>1.0</td>\n",
       "      <td>2</td>\n",
       "    </tr>\n",
       "  </tbody>\n",
       "</table>\n",
       "</div>"
      ],
      "text/plain": [
       "     Year                   Team  StarPresence  NumStars\n",
       "220  2025        Detroit Pistons           1.0         1\n",
       "221  2025         Indiana Pacers           1.0         1\n",
       "222  2025   Los Angeles Clippers           1.0         1\n",
       "223  2025        New York Knicks           1.0         2\n",
       "224  2025  Oklahoma City Thunder           1.0         2"
      ]
     },
     "execution_count": 15,
     "metadata": {},
     "output_type": "execute_result"
    }
   ],
   "source": [
    "# merge star player and star presence\n",
    "star = pd.merge(StarPlayer, StarPres, on= ['Year','Team'], how='left')\n",
    "\n",
    "star_cnt = (star.groupby(['Year','Team'])\n",
    "                 .size()\n",
    "                 .reset_index(name='NumStars'))\n",
    "star = star.merge(star_cnt, on=['Year','Team'], how='left')\\\n",
    "       .fillna({'NumStars': 0})\n",
    "star = star.drop(columns=['StarPlayer'])"
   ]
  },
  {
   "cell_type": "code",
   "execution_count": null,
   "id": "6985b099",
   "metadata": {},
   "outputs": [],
   "source": []
  }
 ],
 "metadata": {
  "kernelspec": {
   "display_name": "Python (clean-base)",
   "language": "python",
   "name": "clean-base"
  },
  "language_info": {
   "codemirror_mode": {
    "name": "ipython",
    "version": 3
   },
   "file_extension": ".py",
   "mimetype": "text/x-python",
   "name": "python",
   "nbconvert_exporter": "python",
   "pygments_lexer": "ipython3",
   "version": "3.11.10"
  }
 },
 "nbformat": 4,
 "nbformat_minor": 5
}
