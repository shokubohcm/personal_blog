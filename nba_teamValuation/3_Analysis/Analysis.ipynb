{
 "cells": [
  {
   "cell_type": "code",
   "execution_count": 1,
   "id": "e48b3afb",
   "metadata": {},
   "outputs": [],
   "source": [
    "import pandas as pd\n",
    "import numpy as np\n",
    "import matplotlib.pyplot as plt\n",
    "import seaborn as sns\n",
    "\n",
    "df = pd.read_csv('../data/data.csv')\n",
    "StarPlayer = pd.read_csv('../data/StarPlayer.csv')\n",
    "StarPres = pd.read_csv('../data/StarPresence.csv')"
   ]
  },
  {
   "cell_type": "code",
   "execution_count": 6,
   "id": "8820ccb2",
   "metadata": {},
   "outputs": [
    {
     "data": {
      "text/html": [
       "<div>\n",
       "<style scoped>\n",
       "    .dataframe tbody tr th:only-of-type {\n",
       "        vertical-align: middle;\n",
       "    }\n",
       "\n",
       "    .dataframe tbody tr th {\n",
       "        vertical-align: top;\n",
       "    }\n",
       "\n",
       "    .dataframe thead th {\n",
       "        text-align: right;\n",
       "    }\n",
       "</style>\n",
       "<table border=\"1\" class=\"dataframe\">\n",
       "  <thead>\n",
       "    <tr style=\"text-align: right;\">\n",
       "      <th></th>\n",
       "      <th>Year</th>\n",
       "      <th>Team</th>\n",
       "      <th>NumStars</th>\n",
       "    </tr>\n",
       "  </thead>\n",
       "  <tbody>\n",
       "    <tr>\n",
       "      <th>0</th>\n",
       "      <td>2011</td>\n",
       "      <td>Atlanta Hawks</td>\n",
       "      <td>1</td>\n",
       "    </tr>\n",
       "    <tr>\n",
       "      <th>1</th>\n",
       "      <td>2011</td>\n",
       "      <td>Chicago Bulls</td>\n",
       "      <td>1</td>\n",
       "    </tr>\n",
       "    <tr>\n",
       "      <th>2</th>\n",
       "      <td>2011</td>\n",
       "      <td>Dallas Mavericks</td>\n",
       "      <td>1</td>\n",
       "    </tr>\n",
       "    <tr>\n",
       "      <th>3</th>\n",
       "      <td>2011</td>\n",
       "      <td>Los Angeles Lakers</td>\n",
       "      <td>2</td>\n",
       "    </tr>\n",
       "    <tr>\n",
       "      <th>4</th>\n",
       "      <td>2011</td>\n",
       "      <td>Menphis Grizzlies</td>\n",
       "      <td>1</td>\n",
       "    </tr>\n",
       "  </tbody>\n",
       "</table>\n",
       "</div>"
      ],
      "text/plain": [
       "   Year                Team  NumStars\n",
       "0  2011       Atlanta Hawks         1\n",
       "1  2011       Chicago Bulls         1\n",
       "2  2011    Dallas Mavericks         1\n",
       "3  2011  Los Angeles Lakers         2\n",
       "4  2011   Menphis Grizzlies         1"
      ]
     },
     "execution_count": 6,
     "metadata": {},
     "output_type": "execute_result"
    }
   ],
   "source": [
    "# create numstars\n",
    "numstars = (StarPlayer.groupby(['Year','Team'])\n",
    "                  .size()\n",
    "                  .reset_index(name='NumStars')\\\n",
    "                    .fillna({'NumStars': 0}))\n",
    "numstars.head()"
   ]
  },
  {
   "cell_type": "code",
   "execution_count": null,
   "id": "5656855c",
   "metadata": {},
   "outputs": [],
   "source": [
    "# merge star player and star presence\n",
    "star = (df\n",
    "      .merge(StarPres, on=['Year','Team'], how='left')\n",
    "      .merge(numstars, on=['Year','Team'], how='left'))\n",
    "\n",
    "# fillna and convert to int\n",
    "star[['StarPresence','NumStars']] = star[['StarPresence','NumStars']].fillna(0).astype(int)"
   ]
  },
  {
   "cell_type": "code",
   "execution_count": 10,
   "id": "1d3ab791",
   "metadata": {},
   "outputs": [],
   "source": [
    "# add star arrival\n",
    "star = star.sort_values(['Team','Year'])\n",
    "star['StarArrival'] = (\n",
    "    star.groupby('Team')['StarPresence']\n",
    "      .diff()               # ΔPresence\n",
    "      .fillna(0)\n",
    "      .eq(1)                # True if 0→1\n",
    "      .astype(int)\n",
    ")\n",
    "star.to_csv('../data/data_star.csv', index=False)"
   ]
  }
 ],
 "metadata": {
  "kernelspec": {
   "display_name": "Python (clean-base)",
   "language": "python",
   "name": "clean-base"
  },
  "language_info": {
   "codemirror_mode": {
    "name": "ipython",
    "version": 3
   },
   "file_extension": ".py",
   "mimetype": "text/x-python",
   "name": "python",
   "nbconvert_exporter": "python",
   "pygments_lexer": "ipython3",
   "version": "3.11.10"
  }
 },
 "nbformat": 4,
 "nbformat_minor": 5
}
