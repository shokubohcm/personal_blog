{
 "cells": [
  {
   "cell_type": "markdown",
   "metadata": {},
   "source": [
    "bar_chart_race\n",
    "FFmpeg をインストール済みor Google Colab上で実行\n",
    "Install FFmpeg or do it on Google Colab"
   ]
  },
  {
   "cell_type": "code",
   "execution_count": null,
   "metadata": {},
   "outputs": [],
   "source": [
    "# %pip install bar_chart_race\n",
    "\n",
    "import pandas as pd\n",
    "import bar_chart_race as bcr\n",
    "from google.colab import files\n",
    "import matplotlib.pyplot as plt\n",
    "\n",
    "# 日本語フォント/Jpanese fonts\n",
    "%apt-get -y install fonts-noto\n",
    "plt.rcParams['font.family'] = 'Noto Sans CJK JP'"
   ]
  },
  {
   "cell_type": "code",
   "execution_count": null,
   "metadata": {},
   "outputs": [],
   "source": [
    "df = pd.read_csv(\"nba_valuation.csv\")\n",
    "df.set_index(\"Team\", inplace=True)\n",
    "df = df.applymap(lambda x: float(str(x).replace(\",\", \"\")))\n",
    "df.index = df.index.astype(int)\n",
    "df.sort_index(inplace=True)"
   ]
  },
  {
   "cell_type": "code",
   "execution_count": null,
   "metadata": {},
   "outputs": [],
   "source": [
    "bcr.bar_chart_race(\n",
    "    df=df,\n",
    "    filename='nba_revenue_race.mp4',\n",
    "    orientation='h',\n",
    "    sort='desc',\n",
    "    n_bars=30,\n",
    "    steps_per_period=30,\n",
    "    period_length=2000,\n",
    "    title='\"NBA Team Valuation Rankings(2011-2025)\"',\n",
    "    bar_size=0.95,\n",
    "    period_fmt='{x}',\n",
    "    cmap='dark12'\n",
    ")"
   ]
  }
 ],
 "metadata": {
  "kernelspec": {
   "display_name": "Python (clean-base)",
   "language": "python",
   "name": "clean-base"
  },
  "language_info": {
   "codemirror_mode": {
    "name": "ipython",
    "version": 3
   },
   "file_extension": ".py",
   "mimetype": "text/x-python",
   "name": "python",
   "nbconvert_exporter": "python",
   "pygments_lexer": "ipython3",
   "version": "3.11.10"
  }
 },
 "nbformat": 4,
 "nbformat_minor": 2
}
