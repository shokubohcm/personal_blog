{
 "cells": [
  {
   "cell_type": "code",
   "execution_count": null,
   "metadata": {},
   "outputs": [
    {
     "name": "stdout",
     "output_type": "stream",
     "text": [
      "Fetching season: 1980-81\n",
      "Fetching season: 1981-82\n",
      "Fetching season: 1982-83\n",
      "Fetching season: 1983-84\n",
      "Fetching season: 1984-85\n",
      "Fetching season: 1985-86\n",
      "Fetching season: 1986-87\n",
      "Fetching season: 1987-88\n",
      "Fetching season: 1988-89\n",
      "Fetching season: 1989-90\n",
      "Fetching season: 1990-91\n",
      "Fetching season: 1991-92\n",
      "Fetching season: 1992-93\n",
      "Fetching season: 1993-94\n",
      "Fetching season: 1994-95\n",
      "Fetching season: 1995-96\n",
      "Fetching season: 1996-97\n"
     ]
    },
    {
     "name": "stderr",
     "output_type": "stream",
     "text": [
      "<positron-console-cell-1>:24: FutureWarning: The behavior of DataFrame concatenation with empty or all-NA entries is deprecated. In a future version, this will no longer exclude empty or all-NA columns when determining the result dtypes. To retain the old behavior, exclude the relevant entries before the concat operation.\n"
     ]
    },
    {
     "name": "stdout",
     "output_type": "stream",
     "text": [
      "Fetching season: 1997-98\n",
      "Fetching season: 1998-99\n",
      "Fetching season: 1999-00\n",
      "Fetching season: 2000-01\n",
      "Fetching season: 2001-02\n",
      "Fetching season: 2002-03\n",
      "Fetching season: 2003-04\n",
      "Fetching season: 2004-05\n",
      "Fetching season: 2005-06\n",
      "Fetching season: 2006-07\n",
      "Fetching season: 2007-08\n",
      "Fetching season: 2008-09\n",
      "Fetching season: 2009-10\n",
      "Fetching season: 2010-11\n",
      "Fetching season: 2011-12\n",
      "Fetching season: 2012-13\n",
      "Fetching season: 2013-14\n",
      "Fetching season: 2014-15\n",
      "Fetching season: 2015-16\n",
      "Fetching season: 2016-17\n",
      "Fetching season: 2017-18\n",
      "Fetching season: 2018-19\n",
      "Fetching season: 2019-20\n",
      "Fetching season: 2020-21\n",
      "Fetching season: 2021-22\n",
      "Fetching season: 2022-23\n",
      "Fetching season: 2023-24\n"
     ]
    }
   ],
   "source": [
    "from nba_api.stats.endpoints import leaguedashplayerstats\n",
    "import pandas as pd\n",
    "import time\n",
    "\n",
    "def fetch_season_stats(season):\n",
    "    season_str = f\"{season}-{str(season+1)[-2:]}\"\n",
    "    print(f\"Fetching season: {season_str}\")\n",
    "    try:\n",
    "        stats = leaguedashplayerstats.LeagueDashPlayerStats(\n",
    "            season=season_str,\n",
    "            season_type_all_star='Regular Season',\n",
    "            per_mode_detailed='PerGame'\n",
    "        ).get_data_frames()[0]\n",
    "        stats['SEASON'] = season_str\n",
    "        return stats\n",
    "    except Exception as e:\n",
    "        print(f\"Error in {season_str}: {e}\")\n",
    "        return pd.DataFrame()\n",
    "\n",
    "\n",
    "# 1980-81 ～ 2023-24シーズンを1年ごとに取得\n",
    "all_data = pd.DataFrame()\n",
    "for start_year in range(1980, 2024):\n",
    "    df = fetch_season_stats(start_year)\n",
    "    all_data = pd.concat([all_data, df], ignore_index=True)\n",
    "    time.sleep(1)\n",
    "\n",
    "# 必要なカラムだけ抽出\n",
    "df_use = all_data[['SEASON', 'PLAYER_NAME', 'PLAYER_ID', 'TEAM_ABBREVIATION', 'GP', 'MIN']].copy()\n",
    "\n",
    "# 保存しておく（次のノート用）\n",
    "df_use.to_pickle(\"df_use.pkl\")\n"
   ]
  },
  {
   "cell_type": "code",
   "execution_count": 2,
   "metadata": {},
   "outputs": [],
   "source": [
    "df_use.to_csv(\"df_use.csv\",index=True)"
   ]
  }
 ],
 "metadata": {
  "language_info": {
   "name": "python"
  }
 },
 "nbformat": 4,
 "nbformat_minor": 2
}
