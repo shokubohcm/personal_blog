{
 "cells": [
  {
   "cell_type": "code",
   "execution_count": null,
   "metadata": {},
   "outputs": [],
   "source": [
    "%pip install nba_api"
   ]
  },
  {
   "cell_type": "code",
   "execution_count": 1,
   "metadata": {},
   "outputs": [],
   "source": [
    "from nba_api.stats.static import players\n",
    "from nba_api.stats.endpoints import commonplayerinfo\n",
    "import pandas as pd\n",
    "import time"
   ]
  },
  {
   "cell_type": "code",
   "execution_count": 2,
   "metadata": {},
   "outputs": [
    {
     "name": "stdout",
     "output_type": "stream",
     "text": [
      "[{'id': 1630173, 'full_name': 'Precious Achiuwa', 'first_name': 'Precious', 'last_name': 'Achiuwa', 'is_active': True}, {'id': 203500, 'full_name': 'Steven Adams', 'first_name': 'Steven', 'last_name': 'Adams', 'is_active': True}, {'id': 1628389, 'full_name': 'Bam Adebayo', 'first_name': 'Bam', 'last_name': 'Adebayo', 'is_active': True}]\n"
     ]
    }
   ],
   "source": [
    "from nba_api.stats.static import players\n",
    "\n",
    "players_list = players.get_active_players()\n",
    "print(players_list[:3])"
   ]
  },
  {
   "cell_type": "code",
   "execution_count": 3,
   "metadata": {},
   "outputs": [
    {
     "data": {
      "text/html": [
       "<div>\n",
       "<style scoped>\n",
       "    .dataframe tbody tr th:only-of-type {\n",
       "        vertical-align: middle;\n",
       "    }\n",
       "\n",
       "    .dataframe tbody tr th {\n",
       "        vertical-align: top;\n",
       "    }\n",
       "\n",
       "    .dataframe thead th {\n",
       "        text-align: right;\n",
       "    }\n",
       "</style>\n",
       "<table border=\"1\" class=\"dataframe\">\n",
       "  <thead>\n",
       "    <tr style=\"text-align: right;\">\n",
       "      <th></th>\n",
       "      <th>Name</th>\n",
       "      <th>DebutSeason</th>\n",
       "    </tr>\n",
       "  </thead>\n",
       "  <tbody>\n",
       "    <tr>\n",
       "      <th>8</th>\n",
       "      <td>John Abramovic</td>\n",
       "      <td>1946-47</td>\n",
       "    </tr>\n",
       "    <tr>\n",
       "      <th>12</th>\n",
       "      <td>Donald Ackerman</td>\n",
       "      <td>1953-54</td>\n",
       "    </tr>\n",
       "    <tr>\n",
       "      <th>7</th>\n",
       "      <td>Forest Able</td>\n",
       "      <td>1956-57</td>\n",
       "    </tr>\n",
       "    <tr>\n",
       "      <th>82</th>\n",
       "      <td>Bob Anderegg</td>\n",
       "      <td>1959-60</td>\n",
       "    </tr>\n",
       "    <tr>\n",
       "      <th>40</th>\n",
       "      <td>Gary Alcorn</td>\n",
       "      <td>1959-60</td>\n",
       "    </tr>\n",
       "    <tr>\n",
       "      <th>35</th>\n",
       "      <td>Henry Akin</td>\n",
       "      <td>1966-67</td>\n",
       "    </tr>\n",
       "    <tr>\n",
       "      <th>87</th>\n",
       "      <td>Cliff Anderson</td>\n",
       "      <td>1967-68</td>\n",
       "    </tr>\n",
       "    <tr>\n",
       "      <th>14</th>\n",
       "      <td>Charles Acton</td>\n",
       "      <td>1967-68</td>\n",
       "    </tr>\n",
       "    <tr>\n",
       "      <th>1</th>\n",
       "      <td>Zaid Abdul-Aziz</td>\n",
       "      <td>1968-69</td>\n",
       "    </tr>\n",
       "    <tr>\n",
       "      <th>58</th>\n",
       "      <td>Bob Allen</td>\n",
       "      <td>1968-69</td>\n",
       "    </tr>\n",
       "  </tbody>\n",
       "</table>\n",
       "</div>"
      ],
      "text/plain": [
       "               Name DebutSeason\n",
       "8    John Abramovic     1946-47\n",
       "12  Donald Ackerman     1953-54\n",
       "7       Forest Able     1956-57\n",
       "82     Bob Anderegg     1959-60\n",
       "40      Gary Alcorn     1959-60\n",
       "35       Henry Akin     1966-67\n",
       "87   Cliff Anderson     1967-68\n",
       "14    Charles Acton     1967-68\n",
       "1   Zaid Abdul-Aziz     1968-69\n",
       "58        Bob Allen     1968-69"
      ]
     },
     "execution_count": null,
     "metadata": {},
     "output_type": "execute_result"
    }
   ],
   "source": [
    "from nba_api.stats.static import players\n",
    "from nba_api.stats.endpoints import PlayerCareerStats\n",
    "import pandas as pd\n",
    "\n",
    "# 全選手リスト取得\n",
    "all_players = players.get_players()\n",
    "\n",
    "# 最初の10人を例に取得（重いのでまず小規模に）\n",
    "career_data = []\n",
    "for player in all_players[:100]:\n",
    "    try:\n",
    "        career = PlayerCareerStats(player_id=player['id']).get_data_frames()[0]\n",
    "        if not career.empty:\n",
    "            debut_year = career['SEASON_ID'].iloc[0]\n",
    "            career_data.append((player['full_name'], debut_year))\n",
    "    except:\n",
    "        continue\n",
    "\n",
    "# DataFrame化して最も古いシーズン順に並べ替え\n",
    "df_career = pd.DataFrame(career_data, columns=['Name', 'DebutSeason'])\n",
    "df_sorted = df_career.sort_values('DebutSeason')\n",
    "df_sorted.head(10)\n"
   ]
  },
  {
   "cell_type": "code",
   "execution_count": 4,
   "metadata": {},
   "outputs": [
    {
     "name": "stdout",
     "output_type": "stream",
     "text": [
      "Career Stats:\n",
      "['PLAYER_ID', 'SEASON_ID', 'LEAGUE_ID', 'TEAM_ID', 'TEAM_ABBREVIATION', 'PLAYER_AGE', 'GP', 'GS', 'MIN', 'FGM', 'FGA', 'FG_PCT', 'FG3M', 'FG3A', 'FG3_PCT', 'FTM', 'FTA', 'FT_PCT', 'OREB', 'DREB', 'REB', 'AST', 'STL', 'BLK', 'TOV', 'PF', 'PTS']\n",
      "\n",
      "Game Log:\n",
      "['SEASON_ID', 'Player_ID', 'Game_ID', 'GAME_DATE', 'MATCHUP', 'WL', 'MIN', 'FGM', 'FGA', 'FG_PCT', 'FG3M', 'FG3A', 'FG3_PCT', 'FTM', 'FTA', 'FT_PCT', 'OREB', 'DREB', 'REB', 'AST', 'STL', 'BLK', 'TOV', 'PF', 'PTS', 'PLUS_MINUS', 'VIDEO_AVAILABLE']\n",
      "\n",
      "Player Info:\n",
      "['PERSON_ID', 'FIRST_NAME', 'LAST_NAME', 'DISPLAY_FIRST_LAST', 'DISPLAY_LAST_COMMA_FIRST', 'DISPLAY_FI_LAST', 'PLAYER_SLUG', 'BIRTHDATE', 'SCHOOL', 'COUNTRY', 'LAST_AFFILIATION', 'HEIGHT', 'WEIGHT', 'SEASON_EXP', 'JERSEY', 'POSITION', 'ROSTERSTATUS', 'GAMES_PLAYED_CURRENT_SEASON_FLAG', 'TEAM_ID', 'TEAM_NAME', 'TEAM_ABBREVIATION', 'TEAM_CODE', 'TEAM_CITY', 'PLAYERCODE', 'FROM_YEAR', 'TO_YEAR', 'DLEAGUE_FLAG', 'NBA_FLAG', 'GAMES_PLAYED_FLAG', 'DRAFT_YEAR', 'DRAFT_ROUND', 'DRAFT_NUMBER', 'GREATEST_75_FLAG']\n",
      "\n",
      "League Game Finder Sample Columns:\n",
      "['SEASON_ID', 'TEAM_ID', 'TEAM_ABBREVIATION', 'TEAM_NAME', 'GAME_ID', 'GAME_DATE', 'MATCHUP', 'WL', 'MIN', 'PTS', 'FGM', 'FGA', 'FG_PCT', 'FG3M', 'FG3A', 'FG3_PCT', 'FTM', 'FTA', 'FT_PCT', 'OREB', 'DREB', 'REB', 'AST', 'STL', 'BLK', 'TOV', 'PF', 'PLUS_MINUS']\n"
     ]
    }
   ],
   "source": [
    "from nba_api.stats.endpoints import playergamelog\n",
    "from nba_api.stats.endpoints import commonplayerinfo\n",
    "from nba_api.stats.endpoints import teamdetails\n",
    "from nba_api.stats.endpoints import leaguegamefinder\n",
    "\n",
    "# 任意の選手（例：レブロン）のIDを検索\n",
    "lebron = [p for p in all_players if p['full_name'] == 'LeBron James'][0]\n",
    "lebron_id = lebron['id']\n",
    "\n",
    "# 1. シーズンごとの成績\n",
    "career_stats = PlayerCareerStats(player_id=lebron_id)\n",
    "print(\"Career Stats:\")\n",
    "print(career_stats.get_data_frames()[0].columns.tolist())\n",
    "\n",
    "# 2. 試合ログ\n",
    "game_log = playergamelog.PlayerGameLog(player_id=lebron_id, season='2022')\n",
    "print(\"\\nGame Log:\")\n",
    "print(game_log.get_data_frames()[0].columns.tolist())\n",
    "\n",
    "# 3. 基本情報\n",
    "info = commonplayerinfo.CommonPlayerInfo(player_id=lebron_id)\n",
    "print(\"\\nPlayer Info:\")\n",
    "print(info.get_data_frames()[0].columns.tolist())\n",
    "\n",
    "# 4. リーグ全体のゲーム検索（チーム、期間など絞れる）\n",
    "league_games = leaguegamefinder.LeagueGameFinder()\n",
    "print(\"\\nLeague Game Finder Sample Columns:\")\n",
    "print(league_games.get_data_frames()[0].columns.tolist())\n"
   ]
  },
  {
   "cell_type": "code",
   "execution_count": null,
   "metadata": {},
   "outputs": [],
   "source": []
  }
 ],
 "metadata": {
  "language_info": {
   "name": "python"
  }
 },
 "nbformat": 4,
 "nbformat_minor": 2
}
